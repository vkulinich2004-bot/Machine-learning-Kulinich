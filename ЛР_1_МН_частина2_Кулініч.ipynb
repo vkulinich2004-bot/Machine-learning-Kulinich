{
  "nbformat": 4,
  "nbformat_minor": 0,
  "metadata": {
    "colab": {
      "provenance": []
    },
    "kernelspec": {
      "name": "python3",
      "display_name": "Python 3"
    },
    "language_info": {
      "name": "python"
    }
  },
  "cells": [
    {
      "cell_type": "code",
      "execution_count": null,
      "metadata": {
        "id": "kf9vYYqGxF0n"
      },
      "outputs": [],
      "source": [
        "import numpy as np"
      ]
    },
    {
      "cell_type": "markdown",
      "source": [
        "1. Задати вектор,що складається з перших п'яти натуральних чисел."
      ],
      "metadata": {
        "id": "BXaikKIxxIY4"
      }
    },
    {
      "cell_type": "code",
      "source": [
        "vector = np.array([1,2,3,4,5])\n",
        "vector"
      ],
      "metadata": {
        "colab": {
          "base_uri": "https://localhost:8080/"
        },
        "id": "wkQDnhp3xHkL",
        "outputId": "8bd0ae04-bee4-4880-80da-5ab3ecd01bc9"
      },
      "execution_count": null,
      "outputs": [
        {
          "output_type": "execute_result",
          "data": {
            "text/plain": [
              "array([1, 2, 3, 4, 5])"
            ]
          },
          "metadata": {},
          "execution_count": 2
        }
      ]
    },
    {
      "cell_type": "markdown",
      "source": [
        "2.Транспонувати вектор."
      ],
      "metadata": {
        "id": "LztbMDISxdSN"
      }
    },
    {
      "cell_type": "code",
      "source": [
        "v1 = np.matrix([1,2,3,4,5])\n",
        "print(v1)\n",
        "v2=v1.T\n",
        "v2"
      ],
      "metadata": {
        "colab": {
          "base_uri": "https://localhost:8080/"
        },
        "id": "P5UbfZYIxiX-",
        "outputId": "62964e6d-288b-4984-dc68-f0f9febd4d3c"
      },
      "execution_count": null,
      "outputs": [
        {
          "output_type": "stream",
          "name": "stdout",
          "text": [
            "[[1 2 3 4 5]]\n"
          ]
        },
        {
          "output_type": "execute_result",
          "data": {
            "text/plain": [
              "matrix([[1],\n",
              "        [2],\n",
              "        [3],\n",
              "        [4],\n",
              "        [5]])"
            ]
          },
          "metadata": {},
          "execution_count": 3
        }
      ]
    },
    {
      "cell_type": "markdown",
      "source": [
        "3. Еаписати функцію ,яка перевертає вектор у зворотному порядку."
      ],
      "metadata": {
        "id": "wZ4YH45Ix2tl"
      }
    },
    {
      "cell_type": "code",
      "source": [
        "v = np.array([1,2,3,4,5])\n",
        "print(v[::-1])"
      ],
      "metadata": {
        "colab": {
          "base_uri": "https://localhost:8080/"
        },
        "id": "3VnVbk3jx1VJ",
        "outputId": "66c216a1-4b18-4b4f-f416-f3f1ee6bb66e"
      },
      "execution_count": null,
      "outputs": [
        {
          "output_type": "stream",
          "name": "stdout",
          "text": [
            "[5 4 3 2 1]\n"
          ]
        }
      ]
    },
    {
      "cell_type": "code",
      "source": [
        "v= np.flip(v)\n",
        "print(v)"
      ],
      "metadata": {
        "colab": {
          "base_uri": "https://localhost:8080/"
        },
        "id": "dqP95hWwzGaW",
        "outputId": "00b4cd2f-c0fc-47fa-cb8a-b4fb14196973"
      },
      "execution_count": null,
      "outputs": [
        {
          "output_type": "stream",
          "name": "stdout",
          "text": [
            "[5 4 3 2 1]\n"
          ]
        }
      ]
    },
    {
      "cell_type": "markdown",
      "source": [
        "4.Обчислити серднє значення вектора."
      ],
      "metadata": {
        "id": "_CvUFGU8zMss"
      }
    },
    {
      "cell_type": "code",
      "source": [
        "print(np.mean(v))"
      ],
      "metadata": {
        "colab": {
          "base_uri": "https://localhost:8080/"
        },
        "id": "GE0IyV0DzNH1",
        "outputId": "efac46ad-aa06-4c92-b9bb-f1b1aed16e92"
      },
      "execution_count": null,
      "outputs": [
        {
          "output_type": "stream",
          "name": "stdout",
          "text": [
            "3.0\n"
          ]
        }
      ]
    },
    {
      "cell_type": "markdown",
      "source": [
        "5. Знайти найбільший і найменший елементи вектора"
      ],
      "metadata": {
        "id": "P-feyz7Lz9g4"
      }
    },
    {
      "cell_type": "code",
      "source": [
        "print(np.max(v))\n",
        "print(np.min(v))"
      ],
      "metadata": {
        "colab": {
          "base_uri": "https://localhost:8080/"
        },
        "id": "C5kAIrkAz-Vu",
        "outputId": "a83e5a50-28a6-4f1c-d9db-a6f5a9354ec7"
      },
      "execution_count": null,
      "outputs": [
        {
          "output_type": "stream",
          "name": "stdout",
          "text": [
            "5\n",
            "1\n"
          ]
        }
      ]
    },
    {
      "cell_type": "markdown",
      "source": [
        "6.Обчислити скалярний добуток (dot product)двох векторів"
      ],
      "metadata": {
        "id": "BQs9lTV80ntk"
      }
    },
    {
      "cell_type": "code",
      "source": [
        "v1 = np.array([1,2,3])\n",
        "v2 = np.array([4,5,6])\n",
        "\n",
        "print(np.dot(v1,v2))\n",
        "print(v1*v2)"
      ],
      "metadata": {
        "colab": {
          "base_uri": "https://localhost:8080/"
        },
        "id": "HGNNbShS02Pq",
        "outputId": "95cbb45c-7c52-461a-b49d-7cfa99c83e1a"
      },
      "execution_count": null,
      "outputs": [
        {
          "output_type": "stream",
          "name": "stdout",
          "text": [
            "32\n",
            "[ 4 10 18]\n"
          ]
        }
      ]
    },
    {
      "cell_type": "markdown",
      "source": [
        "7. Напишіть функцію ,яка нормалізує вектор (зводить до одиничної довжини)."
      ],
      "metadata": {
        "id": "cnwS8r1T1NRg"
      }
    },
    {
      "cell_type": "code",
      "source": [
        "v = np.array([1,2,3,4,5])\n",
        "norm = np.linalg.norm(v)\n",
        "\n",
        "print(norm)\n",
        "\n",
        "v/norm"
      ],
      "metadata": {
        "colab": {
          "base_uri": "https://localhost:8080/"
        },
        "id": "2MSMOTFu1lMb",
        "outputId": "ade632a0-4707-4ecb-cda5-45ee5d513861"
      },
      "execution_count": null,
      "outputs": [
        {
          "output_type": "stream",
          "name": "stdout",
          "text": [
            "7.416198487095663\n"
          ]
        },
        {
          "output_type": "execute_result",
          "data": {
            "text/plain": [
              "array([0.13483997, 0.26967994, 0.40451992, 0.53935989, 0.67419986])"
            ]
          },
          "metadata": {},
          "execution_count": 10
        }
      ]
    },
    {
      "cell_type": "markdown",
      "source": [
        "8. Задайте два вектори. Визначте, чи є вони ортогональними.Підказка: якщо скалярний добуток дорівнює нулю ,вектори ортогональні."
      ],
      "metadata": {
        "id": "FDkN_pM912Ae"
      }
    },
    {
      "cell_type": "code",
      "source": [
        "v1 = np.array([1,0,0])\n",
        "v2 = np.array([0,1,0])\n",
        "\n",
        "np.dot(v1,v2)"
      ],
      "metadata": {
        "colab": {
          "base_uri": "https://localhost:8080/"
        },
        "id": "DDtBaabL12X3",
        "outputId": "09c59f93-dd6f-4d0f-f49f-9812f34a7c47"
      },
      "execution_count": null,
      "outputs": [
        {
          "output_type": "execute_result",
          "data": {
            "text/plain": [
              "np.int64(0)"
            ]
          },
          "metadata": {},
          "execution_count": 11
        }
      ]
    },
    {
      "cell_type": "markdown",
      "source": [
        "9. Визначитиунікальні елементи вектора"
      ],
      "metadata": {
        "id": "eoBpx4ND28Nq"
      }
    },
    {
      "cell_type": "code",
      "source": [
        "v= np.array([1,2,3,2,4,5,3])\n",
        "np.unique(v)"
      ],
      "metadata": {
        "colab": {
          "base_uri": "https://localhost:8080/"
        },
        "id": "-8Tgt9aT3B0s",
        "outputId": "d83f1fb3-e7fd-4b5d-c324-ea7c9161a876"
      },
      "execution_count": null,
      "outputs": [
        {
          "output_type": "execute_result",
          "data": {
            "text/plain": [
              "array([1, 2, 3, 4, 5])"
            ]
          },
          "metadata": {},
          "execution_count": 12
        }
      ]
    },
    {
      "cell_type": "markdown",
      "source": [
        "10.Знайти вектори"
      ],
      "metadata": {
        "id": "c_hDNh2Z3PTM"
      }
    },
    {
      "cell_type": "code",
      "source": [
        "v1 = np.array([1,2,3])\n",
        "v2 = np.array([4,5,6])\n",
        "\n",
        "print(v1-v2)\n",
        "print(v2-v1)\n",
        "print(v1+v2)\n",
        "print(v2+v1)\n",
        "print(v1*v2)\n",
        "print(v2*v1)\n",
        "print(v1/v2)\n",
        "print(v2/v1)"
      ],
      "metadata": {
        "colab": {
          "base_uri": "https://localhost:8080/"
        },
        "id": "GAnXia4b3sBS",
        "outputId": "dd1e7a19-5773-46cb-ef7b-b1a7f4332cfc"
      },
      "execution_count": null,
      "outputs": [
        {
          "output_type": "stream",
          "name": "stdout",
          "text": [
            "[-3 -3 -3]\n",
            "[3 3 3]\n",
            "[5 7 9]\n",
            "[5 7 9]\n",
            "[ 4 10 18]\n",
            "[ 4 10 18]\n",
            "[0.25 0.4  0.5 ]\n",
            "[4.  2.5 2. ]\n"
          ]
        }
      ]
    },
    {
      "cell_type": "markdown",
      "source": [
        "11. Перевірити ,чи дорівнює довжина вектора 5"
      ],
      "metadata": {
        "id": "ndOncgcC4cW5"
      }
    },
    {
      "cell_type": "code",
      "source": [
        "vector = np.array([1,2,3,4,5])\n",
        "length = np.linalg.norm(vector)\n",
        "\n",
        "np.isclose(length,5)"
      ],
      "metadata": {
        "colab": {
          "base_uri": "https://localhost:8080/"
        },
        "id": "hKuSvcCg5EIr",
        "outputId": "00b86c40-7713-4fdd-a35f-1609caac0e59"
      },
      "execution_count": null,
      "outputs": [
        {
          "output_type": "execute_result",
          "data": {
            "text/plain": [
              "np.False_"
            ]
          },
          "metadata": {},
          "execution_count": 14
        }
      ]
    },
    {
      "cell_type": "markdown",
      "source": [
        "12. Задати матрицю,заповнену випадковими числами"
      ],
      "metadata": {
        "id": "Z8z51r9v5Zs6"
      }
    },
    {
      "cell_type": "code",
      "source": [
        "a = np.random.randint(0,11,(3,3))\n",
        "a"
      ],
      "metadata": {
        "colab": {
          "base_uri": "https://localhost:8080/"
        },
        "id": "E6RBWYZu5had",
        "outputId": "9c339a6b-5012-4b69-95d7-9dcc33cdc5a6"
      },
      "execution_count": null,
      "outputs": [
        {
          "output_type": "execute_result",
          "data": {
            "text/plain": [
              "array([[ 2,  5, 10],\n",
              "       [ 9,  1,  9],\n",
              "       [ 0, 10,  6]])"
            ]
          },
          "metadata": {},
          "execution_count": 15
        }
      ]
    },
    {
      "cell_type": "markdown",
      "source": [
        "13.Обчислити визначник матриці"
      ],
      "metadata": {
        "id": "Ba8bpx5N5tA2"
      }
    },
    {
      "cell_type": "code",
      "source": [
        "np.linalg.det(a)"
      ],
      "metadata": {
        "colab": {
          "base_uri": "https://localhost:8080/"
        },
        "id": "l8s7us356dIn",
        "outputId": "a1ee7d90-2a07-4843-8472-4c704cd39ecb"
      },
      "execution_count": null,
      "outputs": [
        {
          "output_type": "execute_result",
          "data": {
            "text/plain": [
              "np.float64(461.9999999999999)"
            ]
          },
          "metadata": {},
          "execution_count": 16
        }
      ]
    },
    {
      "cell_type": "markdown",
      "source": [
        "14. Знаходження оберненої матриці"
      ],
      "metadata": {
        "id": "5Ad7Xufr6igS"
      }
    },
    {
      "cell_type": "code",
      "source": [
        "np.linalg.inv(a)"
      ],
      "metadata": {
        "colab": {
          "base_uri": "https://localhost:8080/"
        },
        "id": "eTIFGCKI6nML",
        "outputId": "78cd4fc1-7ff6-4239-831a-3f6f4aded242"
      },
      "execution_count": null,
      "outputs": [
        {
          "output_type": "execute_result",
          "data": {
            "text/plain": [
              "array([[-0.18181818,  0.15151515,  0.07575758],\n",
              "       [-0.11688312,  0.02597403,  0.15584416],\n",
              "       [ 0.19480519, -0.04329004, -0.09307359]])"
            ]
          },
          "metadata": {},
          "execution_count": 17
        }
      ]
    },
    {
      "cell_type": "markdown",
      "source": [
        "15.Розв'яжіть систему лінійних рівнянь A*x=b ,де А - матриця коефіцієнтів, b- вектор вільних членів"
      ],
      "metadata": {
        "id": "AVg233Na6ugA"
      }
    },
    {
      "cell_type": "code",
      "source": [
        "a = np.array([[1,3,-4],[0,2,-3],[-2,2,5]])\n",
        "b=np.array([5,3,4])\n",
        "x= np.linalg.solve(a,b)\n",
        "print(x)\n",
        "\n",
        "inv_a= np.linalg.inv(a)\n",
        "x1=inv_a.dot(b)\n",
        "print(x1)"
      ],
      "metadata": {
        "colab": {
          "base_uri": "https://localhost:8080/"
        },
        "id": "hDsB5cLP7sIm",
        "outputId": "ae51d568-7964-453e-ba97-197b5cf7326c"
      },
      "execution_count": null,
      "outputs": [
        {
          "output_type": "stream",
          "name": "stdout",
          "text": [
            "[0.38888889 1.83333333 0.22222222]\n",
            "[0.38888889 1.83333333 0.22222222]\n"
          ]
        }
      ]
    },
    {
      "cell_type": "markdown",
      "source": [
        "16. Множення двох матриць"
      ],
      "metadata": {
        "id": "eqGCb04R8eUp"
      }
    },
    {
      "cell_type": "code",
      "source": [
        "a = np.array([[1,3,-4],[0,2,-3],[-2,2,5]])\n",
        "b=np.array([5,3,4])\n",
        "\n",
        "np.dot(a,b)"
      ],
      "metadata": {
        "colab": {
          "base_uri": "https://localhost:8080/"
        },
        "id": "hU8u7UJy8ib4",
        "outputId": "a8dffd3b-bab7-4f42-fd82-71d9c8920b66"
      },
      "execution_count": null,
      "outputs": [
        {
          "output_type": "execute_result",
          "data": {
            "text/plain": [
              "array([-2, -6, 16])"
            ]
          },
          "metadata": {},
          "execution_count": 22
        }
      ]
    },
    {
      "cell_type": "code",
      "source": [
        "a= np.matrix([[1,3,-4],[0,2,-3]])\n",
        "b= np.matrix([[5,3,4],[2,3,5],[3,2,3]])\n",
        "print(a)\n",
        "print(b)\n",
        "print(np.dot(a,b))"
      ],
      "metadata": {
        "colab": {
          "base_uri": "https://localhost:8080/"
        },
        "id": "GTkkFwER8q-a",
        "outputId": "905487bc-b783-4feb-a5eb-c48d3a9c68bb"
      },
      "execution_count": null,
      "outputs": [
        {
          "output_type": "stream",
          "name": "stdout",
          "text": [
            "[[ 1  3 -4]\n",
            " [ 0  2 -3]]\n",
            "[[5 3 4]\n",
            " [2 3 5]\n",
            " [3 2 3]]\n",
            "[[-1  4  7]\n",
            " [-5  0  1]]\n"
          ]
        }
      ]
    },
    {
      "cell_type": "markdown",
      "source": [
        "17. Транспортування матриці"
      ],
      "metadata": {
        "id": "zluDYDyx9Rem"
      }
    },
    {
      "cell_type": "code",
      "source": [
        "print(a.T)\n",
        "print(b.T)"
      ],
      "metadata": {
        "colab": {
          "base_uri": "https://localhost:8080/"
        },
        "id": "YgaDTZty9WxM",
        "outputId": "007fb7b0-cda2-4c34-dccd-5bf6e5070365"
      },
      "execution_count": null,
      "outputs": [
        {
          "output_type": "stream",
          "name": "stdout",
          "text": [
            "[[ 1  0]\n",
            " [ 3  2]\n",
            " [-4 -3]]\n",
            "[[5 2 3]\n",
            " [3 3 2]\n",
            " [4 5 3]]\n"
          ]
        }
      ]
    },
    {
      "cell_type": "code",
      "source": [
        "print(np.transpose(a))\n",
        "print(np.transpose(b))"
      ],
      "metadata": {
        "colab": {
          "base_uri": "https://localhost:8080/"
        },
        "id": "zjalKMi-9doA",
        "outputId": "32d79c21-6ed4-42bb-a097-c13ea428578f"
      },
      "execution_count": null,
      "outputs": [
        {
          "output_type": "stream",
          "name": "stdout",
          "text": [
            "[[ 1  0]\n",
            " [ 3  2]\n",
            " [-4 -3]]\n",
            "[[5 2 3]\n",
            " [3 3 2]\n",
            " [4 5 3]]\n"
          ]
        }
      ]
    },
    {
      "cell_type": "markdown",
      "source": [
        "18. Перевірка симетричності матриці"
      ],
      "metadata": {
        "id": "uKTmS_FQ9kUo"
      }
    },
    {
      "cell_type": "code",
      "source": [
        "matrix = np.matrix([[2,2,2],[2,2,2],[2,2,2]])\n",
        "np.allclose(matrix,matrix.T)"
      ],
      "metadata": {
        "colab": {
          "base_uri": "https://localhost:8080/"
        },
        "id": "gF4aGCOp-5Dn",
        "outputId": "72fcdae1-3b95-4d90-f9a8-7eb0cb7a236c"
      },
      "execution_count": null,
      "outputs": [
        {
          "output_type": "execute_result",
          "data": {
            "text/plain": [
              "True"
            ]
          },
          "metadata": {},
          "execution_count": 26
        }
      ]
    },
    {
      "cell_type": "markdown",
      "source": [
        "19.Обчислення сліду матриці"
      ],
      "metadata": {
        "id": "axGWoi5C_Iol"
      }
    },
    {
      "cell_type": "code",
      "source": [
        "np.trace(matrix)"
      ],
      "metadata": {
        "colab": {
          "base_uri": "https://localhost:8080/"
        },
        "id": "Van1ldvK_M1J",
        "outputId": "9b538b01-0d3a-4b62-f91b-3dca937a056b"
      },
      "execution_count": null,
      "outputs": [
        {
          "output_type": "execute_result",
          "data": {
            "text/plain": [
              "np.int64(6)"
            ]
          },
          "metadata": {},
          "execution_count": 27
        }
      ]
    },
    {
      "cell_type": "markdown",
      "source": [
        "20. Дії з матрицями"
      ],
      "metadata": {
        "id": "BkY59n0M_RNg"
      }
    },
    {
      "cell_type": "code",
      "source": [
        "a = np.matrix([[1,2],[3,4]])\n",
        "b = np.matrix([[5,6],[7,8]])\n",
        "\n",
        "print(np.add(a,b))\n",
        "print(np.subtract(a,b))\n",
        "print(np.multiply(a,b))\n",
        "print(np.divide(a,b))"
      ],
      "metadata": {
        "colab": {
          "base_uri": "https://localhost:8080/"
        },
        "id": "7Mfa5ZuD_U_i",
        "outputId": "8362c80e-dd82-478c-d914-930b9c72b2ab"
      },
      "execution_count": null,
      "outputs": [
        {
          "output_type": "stream",
          "name": "stdout",
          "text": [
            "[[ 6  8]\n",
            " [10 12]]\n",
            "[[-4 -4]\n",
            " [-4 -4]]\n",
            "[[ 5 12]\n",
            " [21 32]]\n",
            "[[0.2        0.33333333]\n",
            " [0.42857143 0.5       ]]\n"
          ]
        }
      ]
    },
    {
      "cell_type": "markdown",
      "source": [
        "21. Піднесення матриці до ступеня"
      ],
      "metadata": {
        "id": "lr80On_dAN3R"
      }
    },
    {
      "cell_type": "code",
      "source": [
        "a= np.matrix([[1,2],[3,4]])\n",
        "np .linalg.matrix_power(a,2)"
      ],
      "metadata": {
        "colab": {
          "base_uri": "https://localhost:8080/"
        },
        "id": "EPCj708bATUs",
        "outputId": "8d479729-ad9e-43d7-f592-0f8f59e7baa7"
      },
      "execution_count": null,
      "outputs": [
        {
          "output_type": "execute_result",
          "data": {
            "text/plain": [
              "matrix([[ 7, 10],\n",
              "        [15, 22]])"
            ]
          },
          "metadata": {},
          "execution_count": 29
        }
      ]
    },
    {
      "cell_type": "markdown",
      "source": [
        "22. Сортування рядків або стовпців матрці"
      ],
      "metadata": {
        "id": "9Gl2BvGEBFpZ"
      }
    },
    {
      "cell_type": "code",
      "source": [
        "b= np.matrix([[5,3,4],[2,3,5],[3,2,3]])\n",
        "print(b)\n",
        "print(np.sort(b,axis=0))\n",
        "print(np.sort(b,axis=1))\n",
        "print(np.sort(b,axis=None))"
      ],
      "metadata": {
        "colab": {
          "base_uri": "https://localhost:8080/"
        },
        "id": "bFjYTK9jBTSC",
        "outputId": "ef5571e4-3f3d-4c61-cc76-4ced9168619f"
      },
      "execution_count": null,
      "outputs": [
        {
          "output_type": "stream",
          "name": "stdout",
          "text": [
            "[[5 3 4]\n",
            " [2 3 5]\n",
            " [3 2 3]]\n",
            "[[2 2 3]\n",
            " [3 3 4]\n",
            " [5 3 5]]\n",
            "[[3 4 5]\n",
            " [2 3 5]\n",
            " [2 3 3]]\n",
            "[[2 2 3 3 3 3 4 5 5]]\n"
          ]
        }
      ]
    },
    {
      "cell_type": "code",
      "source": [
        "a =np.array([[1,4],[3,1]])\n",
        "\n",
        "print(a)\n",
        "print(np.sort(a))"
      ],
      "metadata": {
        "colab": {
          "base_uri": "https://localhost:8080/"
        },
        "id": "U-1IrwDPB2qV",
        "outputId": "f0b94a08-ec13-479e-9dcf-11c1bd816dea"
      },
      "execution_count": null,
      "outputs": [
        {
          "output_type": "stream",
          "name": "stdout",
          "text": [
            "[[1 4]\n",
            " [3 1]]\n",
            "[[1 4]\n",
            " [1 3]]\n"
          ]
        }
      ]
    },
    {
      "cell_type": "markdown",
      "source": [
        "23. Підрахувати суму елементів кожного рядка матриці. Відповідь запиши,як вектор-стовпчик."
      ],
      "metadata": {
        "id": "HnLkalHiDU7r"
      }
    },
    {
      "cell_type": "code",
      "source": [
        "row_sums = np.sum(a,axis=1).reshape(-1,1)\n",
        "print(\"Сума елементів кожного рядка:\")\n",
        "print(row_sums)\n",
        "#В результаті отримуємо"
      ],
      "metadata": {
        "colab": {
          "base_uri": "https://localhost:8080/"
        },
        "id": "4FwIbeaEDiYr",
        "outputId": "ed327e54-f76e-4ca8-c73f-e9d367d8e049"
      },
      "execution_count": null,
      "outputs": [
        {
          "output_type": "stream",
          "name": "stdout",
          "text": [
            "Сума елементів кожного рядка:\n",
            "[[5]\n",
            " [4]]\n"
          ]
        }
      ]
    }
  ]
}