{
  "nbformat": 4,
  "nbformat_minor": 0,
  "metadata": {
    "colab": {
      "provenance": []
    },
    "kernelspec": {
      "name": "python3",
      "display_name": "Python 3"
    },
    "language_info": {
      "name": "python"
    }
  },
  "cells": [
    {
      "cell_type": "markdown",
      "source": [
        "Кулініч Владислав\n",
        "\n",
        "\n",
        "Вступ до машинного навчання. Елементи лінійної алгебри."
      ],
      "metadata": {
        "id": "KAC0pNx4RMBR"
      }
    },
    {
      "cell_type": "code",
      "execution_count": null,
      "metadata": {
        "colab": {
          "base_uri": "https://localhost:8080/",
          "height": 35
        },
        "id": "8InjmCD3x_8d",
        "outputId": "5d338efb-edcb-420d-a272-adc03f04b617"
      },
      "outputs": [
        {
          "output_type": "execute_result",
          "data": {
            "text/plain": [
              "'2.0.2'"
            ],
            "application/vnd.google.colaboratory.intrinsic+json": {
              "type": "string"
            }
          },
          "metadata": {},
          "execution_count": 1
        }
      ],
      "source": [
        "import numpy as np\n",
        "np.__version__"
      ]
    },
    {
      "cell_type": "markdown",
      "source": [
        "1. Створити матрицю 3*3 заповнити її цілими випадковими числами від 1 до 5"
      ],
      "metadata": {
        "id": "ymnX43Uu0DdG"
      }
    },
    {
      "cell_type": "code",
      "source": [
        "matrix = np.random.randint(1,6,size=(3,3))\n",
        "matrix"
      ],
      "metadata": {
        "colab": {
          "base_uri": "https://localhost:8080/"
        },
        "id": "uVmInIIB0Uua",
        "outputId": "df5b7c30-c27f-4d13-87b6-d70f25a6d9b9"
      },
      "execution_count": null,
      "outputs": [
        {
          "output_type": "execute_result",
          "data": {
            "text/plain": [
              "array([[2, 1, 2],\n",
              "       [5, 2, 5],\n",
              "       [5, 5, 1]])"
            ]
          },
          "metadata": {},
          "execution_count": 3
        }
      ]
    },
    {
      "cell_type": "markdown",
      "source": [
        "2. обчислити визначник матриці"
      ],
      "metadata": {
        "id": "cfKvBnOz0zx7"
      }
    },
    {
      "cell_type": "code",
      "source": [
        "det = np.linalg.det(matrix)\n",
        "det"
      ],
      "metadata": {
        "colab": {
          "base_uri": "https://localhost:8080/"
        },
        "id": "x1h0_su506hz",
        "outputId": "c9844382-d87f-424e-ec7f-4bee5e27bf95"
      },
      "execution_count": null,
      "outputs": [
        {
          "output_type": "execute_result",
          "data": {
            "text/plain": [
              "np.float64(3.999999999999999)"
            ]
          },
          "metadata": {},
          "execution_count": 4
        }
      ]
    },
    {
      "cell_type": "markdown",
      "source": [
        "3. знайти добуток всіх елементів матриці"
      ],
      "metadata": {
        "id": "rnNAY5-H1HX8"
      }
    },
    {
      "cell_type": "code",
      "source": [
        "product = np.prod(matrix)\n",
        "product"
      ],
      "metadata": {
        "colab": {
          "base_uri": "https://localhost:8080/"
        },
        "id": "ohhSf90V1OJl",
        "outputId": "21168e3b-4f6f-4b66-fd35-b1764f3dc965"
      },
      "execution_count": null,
      "outputs": [
        {
          "output_type": "execute_result",
          "data": {
            "text/plain": [
              "np.int64(5000)"
            ]
          },
          "metadata": {},
          "execution_count": 5
        }
      ]
    },
    {
      "cell_type": "code",
      "source": [
        "prod_1 = np.prod(matrix[0])\n",
        "prod_2 = np.prod(matrix[1])\n",
        "prod_3 = np.prod(matrix[2])\n",
        "prod_1*prod_2*prod_3"
      ],
      "metadata": {
        "colab": {
          "base_uri": "https://localhost:8080/"
        },
        "id": "itZObZLg1Y9s",
        "outputId": "67006307-5a27-49bf-f428-67c7474cbac2"
      },
      "execution_count": null,
      "outputs": [
        {
          "output_type": "execute_result",
          "data": {
            "text/plain": [
              "np.int64(5000)"
            ]
          },
          "metadata": {},
          "execution_count": 6
        }
      ]
    },
    {
      "cell_type": "markdown",
      "source": [
        "4. Знайти суму всіх елементів матриці"
      ],
      "metadata": {
        "id": "QRvachN011nq"
      }
    },
    {
      "cell_type": "code",
      "source": [
        "sum = np.sum(matrix)\n",
        "sum"
      ],
      "metadata": {
        "colab": {
          "base_uri": "https://localhost:8080/"
        },
        "id": "Z6DE0Q0E2PmY",
        "outputId": "ea18260f-a584-4a3c-8340-01707d7fdbd6"
      },
      "execution_count": null,
      "outputs": [
        {
          "output_type": "execute_result",
          "data": {
            "text/plain": [
              "np.int64(28)"
            ]
          },
          "metadata": {},
          "execution_count": 7
        }
      ]
    },
    {
      "cell_type": "markdown",
      "source": [
        "5. Обчислити найбільший ,найменший елементи"
      ],
      "metadata": {
        "id": "o1jU4BQ82gyJ"
      }
    },
    {
      "cell_type": "code",
      "source": [
        "max_element = np.max(matrix)\n",
        "\n",
        "print(\"найбільший елемент матриці:\",max_element )\n",
        "\n",
        "min_element = np.min(matrix)\n",
        "\n",
        "print(\"найменший елемент матриці:\",min_element )"
      ],
      "metadata": {
        "colab": {
          "base_uri": "https://localhost:8080/"
        },
        "id": "P1Burrbj2r23",
        "outputId": "3ab2f252-39f2-47f0-a8b6-d579049bc670"
      },
      "execution_count": null,
      "outputs": [
        {
          "output_type": "stream",
          "name": "stdout",
          "text": [
            "найбільший елемент матриці: 5\n",
            "найменший елемент матриці: 1\n"
          ]
        }
      ]
    },
    {
      "cell_type": "markdown",
      "source": [
        "6. Знайти середнє значення елементів матриці"
      ],
      "metadata": {
        "id": "cKEfQMjG3TYj"
      }
    },
    {
      "cell_type": "code",
      "source": [
        "mean = np.mean(matrix)\n",
        "print(\" середнє значення елементів матриці:\",mean )"
      ],
      "metadata": {
        "colab": {
          "base_uri": "https://localhost:8080/"
        },
        "id": "KQkkbyRE3jF2",
        "outputId": "369612db-3aef-4d5f-8eb0-9bb9026a25bb"
      },
      "execution_count": null,
      "outputs": [
        {
          "output_type": "stream",
          "name": "stdout",
          "text": [
            " середнє значення елементів матриці: 3.111111111111111\n"
          ]
        }
      ]
    },
    {
      "cell_type": "markdown",
      "source": [
        "7. Знайти матрицю ,що складена  з квадратних коренів."
      ],
      "metadata": {
        "id": "kc8TZAxR5X3r"
      }
    },
    {
      "cell_type": "code",
      "source": [
        "sqrt_matrix= np.sqrt(matrix)\n",
        "print(\" матриця квадратних коренів:\")\n",
        "print(sqrt_matrix)"
      ],
      "metadata": {
        "colab": {
          "base_uri": "https://localhost:8080/"
        },
        "id": "lL21F7X-5iJl",
        "outputId": "b73465d9-b500-434f-c968-7ae0e56c9dbd"
      },
      "execution_count": null,
      "outputs": [
        {
          "output_type": "stream",
          "name": "stdout",
          "text": [
            " матриця квадратних коренів:\n",
            "[[1.41421356 1.         1.41421356]\n",
            " [2.23606798 1.41421356 2.23606798]\n",
            " [2.23606798 2.23606798 1.        ]]\n"
          ]
        }
      ]
    },
    {
      "cell_type": "markdown",
      "source": [
        "8. Обчислити суму елементів кожного рядка . Відповідь записати як вектор-стовпчик"
      ],
      "metadata": {
        "id": "NlbXf6Pr57n3"
      }
    },
    {
      "cell_type": "code",
      "source": [
        "row_sums = np.sum(matrix, axis=1).reshape(-1,1)\n",
        "print(\"Cума елементів кожного рядка:\")\n",
        "print(row_sums)\n",
        "#8 результати отримали вектор-стовпчик"
      ],
      "metadata": {
        "colab": {
          "base_uri": "https://localhost:8080/"
        },
        "id": "2ucLlJUy6Jby",
        "outputId": "1daadf52-1d6d-47bb-f7b0-8e3108830913"
      },
      "execution_count": null,
      "outputs": [
        {
          "output_type": "stream",
          "name": "stdout",
          "text": [
            "Cума елементів кожного рядка:\n",
            "[[ 5]\n",
            " [12]\n",
            " [11]]\n"
          ]
        }
      ]
    },
    {
      "cell_type": "markdown",
      "source": [
        "9. Створити вектор , що містить 25 елементів. Заповнити числами від 0 до 9. Відсортувати числа за спаданням."
      ],
      "metadata": {
        "id": "JCBNr9SJ7qzf"
      }
    },
    {
      "cell_type": "code",
      "source": [
        "vector = np.random.randint(0,10,size=25)\n",
        "\n",
        "print(\"Початковий вектор:\")\n",
        "print(vector)\n",
        "\n",
        "#Сортуємо числа за спаданням\n",
        "sorted_vector = np.sort(vector)[::-1]\n",
        "\n",
        "print(\"Вектор після сортування за спаданням:\")\n",
        "print(sorted_vector)"
      ],
      "metadata": {
        "colab": {
          "base_uri": "https://localhost:8080/"
        },
        "id": "KdadaXK978k_",
        "outputId": "0ae65171-8036-4432-e51b-ba4790e05e62"
      },
      "execution_count": null,
      "outputs": [
        {
          "output_type": "stream",
          "name": "stdout",
          "text": [
            "Початковий вектор:\n",
            "[1 0 1 5 5 6 9 3 9 0 3 2 6 2 9 8 1 6 7 1 3 1 3 0 7]\n",
            "Вектор після сортування за спаданням:\n",
            "[9 9 9 8 7 7 6 6 6 5 5 3 3 3 3 2 2 1 1 1 1 1 0 0 0]\n"
          ]
        }
      ]
    },
    {
      "cell_type": "markdown",
      "source": [
        "10. Знайти моду ,медіану, середнє, максимальне, мінімальне значення"
      ],
      "metadata": {
        "id": "ftXw9V-n9ITr"
      }
    },
    {
      "cell_type": "code",
      "source": [
        "from scipy import stats\n",
        "# Знаходимо моду\n",
        "mode =stats.mode(vector)\n",
        "\n",
        "# Знаходимо медіану\n",
        "median= np.median(vector)\n",
        "\n",
        "# Знаходимо середнє\n",
        "mean = np.mean(vector)\n",
        "\n",
        "# Знаходимо максимальне значення\n",
        "max_value = np.max(vector)\n",
        "\n",
        "# Знаходимо мінімальне значення\n",
        "min_value = np.min(vector)\n",
        "\n",
        "print(\"Мода:\",mode)\n",
        "print(\"Медіана:\",median)\n",
        "print(\"Середнє:\",mean)\n",
        "print(\"Максимальне значення:\",max_value)\n",
        "print(\"Мінімальне значення:\",min_value)\n"
      ],
      "metadata": {
        "colab": {
          "base_uri": "https://localhost:8080/"
        },
        "id": "SkI-4qU99YAK",
        "outputId": "3902ba66-810c-4b8e-e897-4d2e717faa59"
      },
      "execution_count": null,
      "outputs": [
        {
          "output_type": "stream",
          "name": "stdout",
          "text": [
            "Мода: ModeResult(mode=np.int64(1), count=np.int64(5))\n",
            "Медіана: 3.0\n",
            "Середнє: 3.92\n",
            "Максимальне значення: 9\n",
            "Мінімальне значення: 0\n"
          ]
        }
      ]
    },
    {
      "cell_type": "markdown",
      "source": [
        "11. Створити дві матриці 4*4 ,заповнені числами від 1 до 10. Обчислити суму ,різницю ,поелементний добуток,частку."
      ],
      "metadata": {
        "id": "rfGtUz7h-5z5"
      }
    },
    {
      "cell_type": "code",
      "source": [
        "# Створюємо дві матриці 4*4 із випадкових чисел від 1 до 10\n",
        "matrix1 = np.random.randint(1,11,size=(4,4))\n",
        "matrix2 = np.random.randint(1,11,size=(4,4))\n",
        "\n",
        "print(\"Матриця 1:\")\n",
        "print(matrix1)\n",
        "\n",
        "print(\"Матриця 2:\")\n",
        "print(matrix2)"
      ],
      "metadata": {
        "colab": {
          "base_uri": "https://localhost:8080/"
        },
        "id": "Tn85kkFF_PkD",
        "outputId": "e8736e02-b325-4350-da15-659bba3a88cf"
      },
      "execution_count": null,
      "outputs": [
        {
          "output_type": "stream",
          "name": "stdout",
          "text": [
            "Матриця 1:\n",
            "[[6 3 1 8]\n",
            " [8 8 8 7]\n",
            " [9 3 6 6]\n",
            " [1 7 6 8]]\n",
            "Матриця 2:\n",
            "[[ 6  2  9 10]\n",
            " [ 4  6  2  2]\n",
            " [ 6  9  8  8]\n",
            " [ 8  7  6  4]]\n"
          ]
        }
      ]
    },
    {
      "cell_type": "code",
      "source": [
        "# Обчислюємо суму матриць\n",
        "matrix_sum= matrix1+matrix2\n",
        "\n",
        "# Обчислюємо різницю матриць\n",
        "matrix_diff= matrix1-matrix2\n",
        "\n",
        "# Обчислюємо поелементний добуток матриць\n",
        "matrix_product= matrix1*matrix2\n",
        "\n",
        "# Обчислюємо поелементну частку матриць\n",
        "#Для запобігання ділення на нуль,використовуємо np.divide з параметром where\n",
        "matrix_division = np.divide(matrix1, matrix2, where=(matrix2!=0))\n",
        "\n",
        "print(\"\\nСума матриць:\")\n",
        "print(matrix_sum)\n",
        "\n",
        "print(\"\\nРізниця матриць:\")\n",
        "print(matrix_diff)\n",
        "\n",
        "print(\"\\nПоелементний добуток матриць:\")\n",
        "print(matrix_product)\n",
        "\n",
        "print(\"\\nПоелементна частка матриць:\")\n",
        "print(matrix_division)\n"
      ],
      "metadata": {
        "colab": {
          "base_uri": "https://localhost:8080/"
        },
        "id": "mMa07lPG_1lY",
        "outputId": "073944cd-5906-4f89-cdf1-ace22fb9d401"
      },
      "execution_count": null,
      "outputs": [
        {
          "output_type": "stream",
          "name": "stdout",
          "text": [
            "\n",
            "Сума матриць:\n",
            "[[12  5 10 18]\n",
            " [12 14 10  9]\n",
            " [15 12 14 14]\n",
            " [ 9 14 12 12]]\n",
            "\n",
            "Різниця матриць:\n",
            "[[ 0  1 -8 -2]\n",
            " [ 4  2  6  5]\n",
            " [ 3 -6 -2 -2]\n",
            " [-7  0  0  4]]\n",
            "\n",
            "Поелементний добуток матриць:\n",
            "[[36  6  9 80]\n",
            " [32 48 16 14]\n",
            " [54 27 48 48]\n",
            " [ 8 49 36 32]]\n",
            "\n",
            "Поелементна частка матриць:\n",
            "[[1.         1.5        0.11111111 0.8       ]\n",
            " [2.         1.33333333 4.         3.5       ]\n",
            " [1.5        0.33333333 0.75       0.75      ]\n",
            " [0.125      1.         1.         2.        ]]\n"
          ]
        }
      ]
    },
    {
      "cell_type": "markdown",
      "source": [
        "Висновок: У цій лабораторній роботі я закріпив базові навички роботи з масивами та матрицями, використовуючи елементи лінійної алгебри в середовищі Python. Виконані завдання допомогли краще зрозуміти принципи генерації числових послідовностей та операцій над ними, що є основою для подальшого вивчення машинного навчання."
      ],
      "metadata": {
        "id": "N3u-NyrJQpxN"
      }
    }
  ]
}